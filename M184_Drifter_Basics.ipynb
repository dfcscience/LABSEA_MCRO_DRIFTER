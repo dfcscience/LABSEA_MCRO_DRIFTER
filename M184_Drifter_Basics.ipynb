{
 "cells": [
  {
   "cell_type": "code",
   "execution_count": null,
   "id": "870984d2",
   "metadata": {},
   "outputs": [],
   "source": []
  },
  {
   "cell_type": "code",
   "execution_count": 9,
   "id": "cb582ddc",
   "metadata": {},
   "outputs": [],
   "source": [
    "import pandas as pd\n",
    "import geopandas as gpd\n",
    "import movingpandas as mpd\n",
    "import matplotlib.pyplot as plt \n",
    "import contextily as ctx\n",
    "import geoplot\n",
    "import os\n",
    "from shapely.geometry import Point"
   ]
  },
  {
   "cell_type": "code",
   "execution_count": 5,
   "id": "4de15001",
   "metadata": {},
   "outputs": [
    {
     "data": {
      "text/html": [
       "<div>\n",
       "<style scoped>\n",
       "    .dataframe tbody tr th:only-of-type {\n",
       "        vertical-align: middle;\n",
       "    }\n",
       "\n",
       "    .dataframe tbody tr th {\n",
       "        vertical-align: top;\n",
       "    }\n",
       "\n",
       "    .dataframe thead th {\n",
       "        text-align: right;\n",
       "    }\n",
       "</style>\n",
       "<table border=\"1\" class=\"dataframe\">\n",
       "  <thead>\n",
       "    <tr style=\"text-align: right;\">\n",
       "      <th></th>\n",
       "      <th>Time</th>\n",
       "      <th>Latitude</th>\n",
       "      <th>Longitude</th>\n",
       "    </tr>\n",
       "  </thead>\n",
       "  <tbody>\n",
       "    <tr>\n",
       "      <th>0</th>\n",
       "      <td>2022-08-13T15:21:54.999</td>\n",
       "      <td>49.78859</td>\n",
       "      <td>-50.16989</td>\n",
       "    </tr>\n",
       "    <tr>\n",
       "      <th>1</th>\n",
       "      <td>2022-08-13T15:27:58.000</td>\n",
       "      <td>49.78702</td>\n",
       "      <td>-50.17024</td>\n",
       "    </tr>\n",
       "    <tr>\n",
       "      <th>2</th>\n",
       "      <td>2022-08-13T15:32:57.998</td>\n",
       "      <td>49.78526</td>\n",
       "      <td>-50.17084</td>\n",
       "    </tr>\n",
       "    <tr>\n",
       "      <th>3</th>\n",
       "      <td>2022-08-13T15:36:56.998</td>\n",
       "      <td>49.78410</td>\n",
       "      <td>-50.17114</td>\n",
       "    </tr>\n",
       "    <tr>\n",
       "      <th>4</th>\n",
       "      <td>2022-08-13T15:41:54.999</td>\n",
       "      <td>49.78262</td>\n",
       "      <td>-50.17175</td>\n",
       "    </tr>\n",
       "  </tbody>\n",
       "</table>\n",
       "</div>"
      ],
      "text/plain": [
       "                      Time  Latitude  Longitude\n",
       "0  2022-08-13T15:21:54.999  49.78859  -50.16989\n",
       "1  2022-08-13T15:27:58.000  49.78702  -50.17024\n",
       "2  2022-08-13T15:32:57.998  49.78526  -50.17084\n",
       "3  2022-08-13T15:36:56.998  49.78410  -50.17114\n",
       "4  2022-08-13T15:41:54.999  49.78262  -50.17175"
      ]
     },
     "execution_count": 5,
     "metadata": {},
     "output_type": "execute_result"
    }
   ],
   "source": [
    "data_dir = '/Users/dfc/Documents/MyPythonRepos/DFC_New/LABSEA_MCRO_DRIFTER'\n",
    "data_file = 'M184_drifter_0194.csv'\n",
    "data_path = os.path.join(data_dir,data_file)\n",
    "\n",
    "df = pd.read_csv(data_path)\n",
    "df.head()"
   ]
  },
  {
   "cell_type": "code",
   "execution_count": 10,
   "id": "0fa3ee09",
   "metadata": {},
   "outputs": [],
   "source": [
    "lon = df['Longitude']\n",
    "lat = df['Latitude']\n",
    "geometry = [Point(xy) for xy in zip(lon,lat)]"
   ]
  },
  {
   "cell_type": "code",
   "execution_count": null,
   "id": "2e724106",
   "metadata": {},
   "outputs": [],
   "source": []
  }
 ],
 "metadata": {
  "kernelspec": {
   "display_name": "Python 3",
   "language": "python",
   "name": "python3"
  },
  "language_info": {
   "codemirror_mode": {
    "name": "ipython",
    "version": 3
   },
   "file_extension": ".py",
   "mimetype": "text/x-python",
   "name": "python",
   "nbconvert_exporter": "python",
   "pygments_lexer": "ipython3",
   "version": "3.7.10"
  }
 },
 "nbformat": 4,
 "nbformat_minor": 5
}
